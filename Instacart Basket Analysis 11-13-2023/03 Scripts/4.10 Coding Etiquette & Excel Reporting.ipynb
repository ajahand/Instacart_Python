{
 "cells": [
  {
   "cell_type": "markdown",
   "id": "32188a59",
   "metadata": {},
   "source": [
    "# 1.Taking out the PII"
   ]
  },
  {
   "cell_type": "code",
   "execution_count": 1,
   "id": "e56c95db",
   "metadata": {},
   "outputs": [],
   "source": [
    "#import libraries\n",
    "import pandas as pd\n",
    "import numpy as np\n",
    "import os\n",
    "import matplotlib.pyplot as plt\n",
    "import seaborn as sns\n",
    "import scipy"
   ]
  },
  {
   "cell_type": "code",
   "execution_count": 2,
   "id": "91ea5218",
   "metadata": {},
   "outputs": [],
   "source": [
    "#creating a path\n",
    "path = r'/Users/ajahanderson/Documents/Instacart Basket Analysis 11-13-2023'"
   ]
  },
  {
   "cell_type": "code",
   "execution_count": 3,
   "id": "800f2ba1",
   "metadata": {},
   "outputs": [],
   "source": [
    "#creating a file path\n",
    "file_path = os.path.join(path, '02 Data', 'Prepared Data', 'ords_prods_customers_left.pkl')"
   ]
  },
  {
   "cell_type": "code",
   "execution_count": 4,
   "id": "617869b7",
   "metadata": {},
   "outputs": [],
   "source": [
    "#excluding columns with PII\n",
    "columns_to_exclude = ['first_name', 'last_name','Regions_loc']"
   ]
  },
  {
   "cell_type": "code",
   "execution_count": 5,
   "id": "64d8d9fe",
   "metadata": {},
   "outputs": [],
   "source": [
    "#reading the pickle\n",
    "df_merged = pd.read_pickle(file_path)"
   ]
  },
  {
   "cell_type": "code",
   "execution_count": 6,
   "id": "ab3de8ce",
   "metadata": {},
   "outputs": [],
   "source": [
    "#putting it all together\n",
    "df_merged = df_merged.drop(columns=columns_to_exclude, errors='ignore')"
   ]
  },
  {
   "cell_type": "markdown",
   "id": "6bf7bd4f",
   "metadata": {},
   "source": [
    "# 2. Create a regional segmentation of the data. "
   ]
  },
  {
   "cell_type": "code",
   "execution_count": 7,
   "id": "3cb1c50a",
   "metadata": {},
   "outputs": [
    {
     "name": "stderr",
     "output_type": "stream",
     "text": [
      "/var/folders/5t/s295bnhn7bvf1407s3py_b8h0000gn/T/ipykernel_5458/3788717933.py:2: FutureWarning: Setting an item of incompatible dtype is deprecated and will raise in a future error of pandas. Value 'Northeast' has dtype incompatible with float64, please explicitly cast to a compatible dtype first.\n",
      "  df_merged.loc[df_merged['State'].isin(['Maine', 'New Hampshire', 'Vermont', 'Massachusetts', 'Rhode Island', 'Connecticut', 'New York', 'Pennsylvania', 'New Jersey']), 'Regions'] = 'Northeast'\n"
     ]
    }
   ],
   "source": [
    "#creating regions\n",
    "df_merged.loc[df_merged['State'].isin(['Maine', 'New Hampshire', 'Vermont', 'Massachusetts', 'Rhode Island', 'Connecticut', 'New York', 'Pennsylvania', 'New Jersey']), 'Regions'] = 'Northeast'\n",
    "df_merged.loc[df_merged['State'].isin(['Wisconsin', 'Michigan', 'Illinois', 'Indiana', 'Ohio', 'North Dakota', 'South Dakota', 'Nebraska', 'Kansas', 'Minnesota', 'Iowa', 'Missouri']), 'Regions'] = 'MidWest'\n",
    "df_merged.loc[df_merged['State'].isin(['Delaware', 'Maryland', 'District of Columbia', 'Virginia', 'West Virginia', 'North Carolina', 'South Carolina', 'Georgia', 'Florida', 'Kentucky', 'Tennessee', 'Mississippi', 'Alabama', 'Oklahoma', 'Texas', 'Arkansas', 'Louisiana']), 'Regions'] = 'South'\n",
    "df_merged.loc[df_merged['State'].isin(['Idaho', 'Montana', 'Wyoming', 'Nevada', 'Utah', 'Colorado', 'Arizona', 'New Mexico', 'Alaska', 'Washington', 'Oregon', 'California', 'Hawaii']), 'Regions'] = 'West'\n"
   ]
  },
  {
   "cell_type": "code",
   "execution_count": 8,
   "id": "53115954",
   "metadata": {},
   "outputs": [],
   "source": [
    "#creating a crosstab\n",
    "crosstab = pd.crosstab(df_merged['loyalty_flag'], df_merged['Regions'],dropna = False)"
   ]
  },
  {
   "cell_type": "code",
   "execution_count": 9,
   "id": "8b4a1c3e",
   "metadata": {},
   "outputs": [],
   "source": [
    "crosstab.to_clipboard()"
   ]
  },
  {
   "cell_type": "markdown",
   "id": "b636e910",
   "metadata": {},
   "source": [
    "# 3. Create an exclusion flag for low-activity customers"
   ]
  },
  {
   "cell_type": "code",
   "execution_count": 10,
   "id": "b03e95f5",
   "metadata": {},
   "outputs": [
    {
     "name": "stderr",
     "output_type": "stream",
     "text": [
      "/var/folders/5t/s295bnhn7bvf1407s3py_b8h0000gn/T/ipykernel_5458/3493739549.py:2: FutureWarning: Setting an item of incompatible dtype is deprecated and will raise in a future error of pandas. Value 'low activity' has dtype incompatible with float64, please explicitly cast to a compatible dtype first.\n",
      "  df_merged.loc[df_merged['max_order']<= 5, 'activity'] = 'low activity'\n"
     ]
    }
   ],
   "source": [
    "#creating a column for low-activity\n",
    "df_merged.loc[df_merged['max_order']<= 5, 'activity'] = 'low activity'"
   ]
  },
  {
   "cell_type": "code",
   "execution_count": 11,
   "id": "3e46bfce",
   "metadata": {},
   "outputs": [],
   "source": [
    "#counting all the low activity\n",
    "low_activity_count = (df_merged['activity'] == 'low activity').sum()"
   ]
  },
  {
   "cell_type": "code",
   "execution_count": 12,
   "id": "492e4c47",
   "metadata": {},
   "outputs": [],
   "source": [
    "#excluding rows\n",
    "df = df_merged[df_merged['activity'] != 'low activity']"
   ]
  },
  {
   "cell_type": "code",
   "execution_count": 13,
   "id": "2a7e6f5f",
   "metadata": {},
   "outputs": [
    {
     "ename": "SyntaxError",
     "evalue": "invalid syntax (2214340220.py, line 2)",
     "output_type": "error",
     "traceback": [
      "\u001b[0;36m  Cell \u001b[0;32mIn[13], line 2\u001b[0;36m\u001b[0m\n\u001b[0;31m    df.to pickle(os.path.join(path, '02 Data', 'Prepared Data', '3.10_data.pkl'))\u001b[0m\n\u001b[0m          ^\u001b[0m\n\u001b[0;31mSyntaxError\u001b[0m\u001b[0;31m:\u001b[0m invalid syntax\n"
     ]
    }
   ],
   "source": [
    "#exporting data\n",
    "df.to pickle(os.path.join(path, '02 Data', 'Prepared Data', '3.10_data.pkl'))"
   ]
  },
  {
   "cell_type": "markdown",
   "id": "1aa120bb",
   "metadata": {},
   "source": [
    "# 4. Create a profiling variable"
   ]
  },
  {
   "cell_type": "code",
   "execution_count": 14,
   "id": "8adbaccf",
   "metadata": {},
   "outputs": [],
   "source": [
    "#creating the conditions to make a customer profile\n",
    "condition_pet_owners = (\n",
    "    (df['department_id'].isin([8])) &\n",
    "    (df['age']<= 81) &\n",
    "    (df['income'] <= 593901) &\n",
    "    (df['n_dependents'] <= 3))\n",
    "\n",
    "condition_young_parent = (\n",
    "    (df['department_id'].isin([18])) &\n",
    "    (df['age'].isin([18, 19, 20, 21, 22, 23, 24, 25])) &\n",
    "    (df['income'] <= 394023) &\n",
    "    (df['n_dependents'] == 1))\n"
   ]
  },
  {
   "cell_type": "code",
   "execution_count": 15,
   "id": "8124d0e7",
   "metadata": {},
   "outputs": [
    {
     "name": "stderr",
     "output_type": "stream",
     "text": [
      "/var/folders/5t/s295bnhn7bvf1407s3py_b8h0000gn/T/ipykernel_5458/4103088803.py:2: SettingWithCopyWarning: \n",
      "A value is trying to be set on a copy of a slice from a DataFrame.\n",
      "Try using .loc[row_indexer,col_indexer] = value instead\n",
      "\n",
      "See the caveats in the documentation: https://pandas.pydata.org/pandas-docs/stable/user_guide/indexing.html#returning-a-view-versus-a-copy\n",
      "  df.loc[condition_pet_owners, 'customer_profile'] = 'Pet Owner'\n",
      "/var/folders/5t/s295bnhn7bvf1407s3py_b8h0000gn/T/ipykernel_5458/4103088803.py:2: FutureWarning: Setting an item of incompatible dtype is deprecated and will raise in a future error of pandas. Value 'Pet Owner' has dtype incompatible with float64, please explicitly cast to a compatible dtype first.\n",
      "  df.loc[condition_pet_owners, 'customer_profile'] = 'Pet Owner'\n"
     ]
    }
   ],
   "source": [
    "#creating a customer profile\n",
    "df.loc[condition_pet_owners, 'customer_profile'] = 'Pet Owner'\n",
    "df.loc[condition_young_parent, 'customer_profile'] = 'Young Parent'"
   ]
  },
  {
   "cell_type": "markdown",
   "id": "91f24e2a",
   "metadata": {},
   "source": [
    "# 5. Creating visualization to show the distribution of profile"
   ]
  },
  {
   "cell_type": "code",
   "execution_count": 16,
   "id": "2cc16e73",
   "metadata": {},
   "outputs": [
    {
     "name": "stderr",
     "output_type": "stream",
     "text": [
      "/Users/ajahanderson/anaconda3/lib/python3.11/site-packages/seaborn/_oldcore.py:1498: FutureWarning: is_categorical_dtype is deprecated and will be removed in a future version. Use isinstance(dtype, CategoricalDtype) instead\n",
      "  if pd.api.types.is_categorical_dtype(vector):\n",
      "/Users/ajahanderson/anaconda3/lib/python3.11/site-packages/seaborn/_oldcore.py:1498: FutureWarning: is_categorical_dtype is deprecated and will be removed in a future version. Use isinstance(dtype, CategoricalDtype) instead\n",
      "  if pd.api.types.is_categorical_dtype(vector):\n",
      "/Users/ajahanderson/anaconda3/lib/python3.11/site-packages/seaborn/_oldcore.py:1498: FutureWarning: is_categorical_dtype is deprecated and will be removed in a future version. Use isinstance(dtype, CategoricalDtype) instead\n",
      "  if pd.api.types.is_categorical_dtype(vector):\n"
     ]
    },
    {
     "data": {
      "image/png": "[encoded data removed]",
      "text/plain": [
       "<Figure size 800x600 with 1 Axes>"
      ]
     },
     "metadata": {},
     "output_type": "display_data"
    }
   ],
   "source": [
    "#charing a bar chart to show the frequency\n",
    "plt.figure(figsize=(8, 6))\n",
    "sns.countplot(data=df, x='customer_profile')\n",
    "plt.title('Distribution of Customer Profiles')\n",
    "plt.xlabel('Customer Profiles')\n",
    "plt.ylabel('Count')\n",
    "plt.xticks(rotation=45) \n",
    "plt.show()"
   ]
  },
  {
   "cell_type": "code",
   "execution_count": 17,
   "id": "7564d815",
   "metadata": {},
   "outputs": [
    {
     "data": {
      "image/png": "[encoded data removed]",
      "text/plain": [
       "<Figure size 800x600 with 1 Axes>"
      ]
     },
     "metadata": {},
     "output_type": "display_data"
    }
   ],
   "source": [
    "profile_counts = df['customer_profile'].value_counts()\n",
    "\n",
    "# Create a pie chart to represent the distribution of customer profiles\n",
    "plt.figure(figsize=(8, 6))\n",
    "plt.pie(profile_counts, labels=profile_counts.index, autopct='%1.1f%%', startangle=140)\n",
    "plt.title('Distribution of Customer Profiles')\n",
    "\n",
    "plt.axis('equal')  # Equal aspect ratio ensures that pie is drawn as a circle\n",
    "plt.show()"
   ]
  },
  {
   "cell_type": "code",
   "execution_count": 18,
   "id": "2f4dfb06",
   "metadata": {},
   "outputs": [],
   "source": [
    "#marking columns over 100 nan\n",
    "df.loc[df['mean_spent'] >100, 'mean_spent'] = np.nan"
   ]
  },
  {
   "cell_type": "code",
   "execution_count": 19,
   "id": "5740c52e",
   "metadata": {},
   "outputs": [],
   "source": [
    "#aggregate function for the expediture\n",
    "stats_by_expenditure = df.groupby('customer_profile')['mean_spent'].agg(['mean', 'min', 'max'])"
   ]
  },
  {
   "cell_type": "markdown",
   "id": "08cb6696",
   "metadata": {},
   "source": [
    "# 6. Aggregate the max, mean, and min variables on a customer-profile level "
   ]
  },
  {
   "cell_type": "code",
   "execution_count": 20,
   "id": "ace2488f",
   "metadata": {},
   "outputs": [],
   "source": [
    "#aggretgate functions for the frequency\n",
    "stats_by_frequency = df.groupby('customer_profile')['order_frequency'].agg(['mean', 'min', 'max'])"
   ]
  },
  {
   "cell_type": "code",
   "execution_count": 21,
   "id": "ae88606f",
   "metadata": {},
   "outputs": [
    {
     "data": {
      "text/html": [
       "<div>\n",
       "<style scoped>\n",
       "    .dataframe tbody tr th:only-of-type {\n",
       "        vertical-align: middle;\n",
       "    }\n",
       "\n",
       "    .dataframe tbody tr th {\n",
       "        vertical-align: top;\n",
       "    }\n",
       "\n",
       "    .dataframe thead th {\n",
       "        text-align: right;\n",
       "    }\n",
       "</style>\n",
       "<table border=\"1\" class=\"dataframe\">\n",
       "  <thead>\n",
       "    <tr style=\"text-align: right;\">\n",
       "      <th></th>\n",
       "      <th>mean</th>\n",
       "      <th>min</th>\n",
       "      <th>max</th>\n",
       "    </tr>\n",
       "    <tr>\n",
       "      <th>customer_profile</th>\n",
       "      <th></th>\n",
       "      <th></th>\n",
       "      <th></th>\n",
       "    </tr>\n",
       "  </thead>\n",
       "  <tbody>\n",
       "    <tr>\n",
       "      <th>Pet Owner</th>\n",
       "      <td>25.286284</td>\n",
       "      <td>3.0</td>\n",
       "      <td>30.0</td>\n",
       "    </tr>\n",
       "    <tr>\n",
       "      <th>Young Parent</th>\n",
       "      <td>23.726481</td>\n",
       "      <td>4.0</td>\n",
       "      <td>30.0</td>\n",
       "    </tr>\n",
       "  </tbody>\n",
       "</table>\n",
       "</div>"
      ],
      "text/plain": [
       "                       mean  min   max\n",
       "customer_profile                      \n",
       "Pet Owner         25.286284  3.0  30.0\n",
       "Young Parent      23.726481  4.0  30.0"
      ]
     },
     "execution_count": 21,
     "metadata": {},
     "output_type": "execute_result"
    }
   ],
   "source": [
    "stats_by_frequency"
   ]
  },
  {
   "cell_type": "markdown",
   "id": "60274300",
   "metadata": {},
   "source": [
    "# 7. Compare your customer profiles with regions and departments. "
   ]
  },
  {
   "cell_type": "code",
   "execution_count": 22,
   "id": "caa2b708",
   "metadata": {},
   "outputs": [],
   "source": [
    "department_earnings_pivot = df.pivot_table(index='department_id', values='mean_spent', aggfunc='sum')"
   ]
  },
  {
   "cell_type": "code",
   "execution_count": 23,
   "id": "c4c1483a",
   "metadata": {},
   "outputs": [
    {
     "data": {
      "text/html": [
       "<div>\n",
       "<style scoped>\n",
       "    .dataframe tbody tr th:only-of-type {\n",
       "        vertical-align: middle;\n",
       "    }\n",
       "\n",
       "    .dataframe tbody tr th {\n",
       "        vertical-align: top;\n",
       "    }\n",
       "\n",
       "    .dataframe thead th {\n",
       "        text-align: right;\n",
       "    }\n",
       "</style>\n",
       "<table border=\"1\" class=\"dataframe\">\n",
       "  <thead>\n",
       "    <tr style=\"text-align: right;\">\n",
       "      <th></th>\n",
       "      <th>mean_spent</th>\n",
       "    </tr>\n",
       "    <tr>\n",
       "      <th>department_id</th>\n",
       "      <th></th>\n",
       "    </tr>\n",
       "  </thead>\n",
       "  <tbody>\n",
       "    <tr>\n",
       "      <th>1</th>\n",
       "      <td>39733173.2</td>\n",
       "    </tr>\n",
       "    <tr>\n",
       "      <th>2</th>\n",
       "      <td>619462.8</td>\n",
       "    </tr>\n",
       "    <tr>\n",
       "      <th>3</th>\n",
       "      <td>21217699.8</td>\n",
       "    </tr>\n",
       "    <tr>\n",
       "      <th>4</th>\n",
       "      <td>172543177.6</td>\n",
       "    </tr>\n",
       "    <tr>\n",
       "      <th>5</th>\n",
       "      <td>2280934.0</td>\n",
       "    </tr>\n",
       "    <tr>\n",
       "      <th>6</th>\n",
       "      <td>4862024.2</td>\n",
       "    </tr>\n",
       "    <tr>\n",
       "      <th>7</th>\n",
       "      <td>46185343.5</td>\n",
       "    </tr>\n",
       "    <tr>\n",
       "      <th>8</th>\n",
       "      <td>1693866.5</td>\n",
       "    </tr>\n",
       "    <tr>\n",
       "      <th>9</th>\n",
       "      <td>15782458.2</td>\n",
       "    </tr>\n",
       "    <tr>\n",
       "      <th>10</th>\n",
       "      <td>617227.7</td>\n",
       "    </tr>\n",
       "    <tr>\n",
       "      <th>11</th>\n",
       "      <td>7693484.0</td>\n",
       "    </tr>\n",
       "    <tr>\n",
       "      <th>12</th>\n",
       "      <td>14129850.1</td>\n",
       "    </tr>\n",
       "    <tr>\n",
       "      <th>13</th>\n",
       "      <td>33627136.7</td>\n",
       "    </tr>\n",
       "    <tr>\n",
       "      <th>14</th>\n",
       "      <td>12364276.6</td>\n",
       "    </tr>\n",
       "    <tr>\n",
       "      <th>15</th>\n",
       "      <td>19345866.0</td>\n",
       "    </tr>\n",
       "    <tr>\n",
       "      <th>16</th>\n",
       "      <td>97386922.3</td>\n",
       "    </tr>\n",
       "    <tr>\n",
       "      <th>17</th>\n",
       "      <td>12479905.6</td>\n",
       "    </tr>\n",
       "    <tr>\n",
       "      <th>18</th>\n",
       "      <td>8065978.8</td>\n",
       "    </tr>\n",
       "    <tr>\n",
       "      <th>19</th>\n",
       "      <td>50314963.8</td>\n",
       "    </tr>\n",
       "    <tr>\n",
       "      <th>20</th>\n",
       "      <td>18914466.2</td>\n",
       "    </tr>\n",
       "    <tr>\n",
       "      <th>21</th>\n",
       "      <td>1202770.8</td>\n",
       "    </tr>\n",
       "  </tbody>\n",
       "</table>\n",
       "</div>"
      ],
      "text/plain": [
       "                mean_spent\n",
       "department_id             \n",
       "1               39733173.2\n",
       "2                 619462.8\n",
       "3               21217699.8\n",
       "4              172543177.6\n",
       "5                2280934.0\n",
       "6                4862024.2\n",
       "7               46185343.5\n",
       "8                1693866.5\n",
       "9               15782458.2\n",
       "10                617227.7\n",
       "11               7693484.0\n",
       "12              14129850.1\n",
       "13              33627136.7\n",
       "14              12364276.6\n",
       "15              19345866.0\n",
       "16              97386922.3\n",
       "17              12479905.6\n",
       "18               8065978.8\n",
       "19              50314963.8\n",
       "20              18914466.2\n",
       "21               1202770.8"
      ]
     },
     "execution_count": 23,
     "metadata": {},
     "output_type": "execute_result"
    }
   ],
   "source": [
    "department_earnings_pivot"
   ]
  },
  {
   "cell_type": "code",
   "execution_count": 24,
   "id": "6ee8cb50",
   "metadata": {},
   "outputs": [
    {
     "data": {
      "text/html": [
       "<div>\n",
       "<style scoped>\n",
       "    .dataframe tbody tr th:only-of-type {\n",
       "        vertical-align: middle;\n",
       "    }\n",
       "\n",
       "    .dataframe tbody tr th {\n",
       "        vertical-align: top;\n",
       "    }\n",
       "\n",
       "    .dataframe thead th {\n",
       "        text-align: right;\n",
       "    }\n",
       "</style>\n",
       "<table border=\"1\" class=\"dataframe\">\n",
       "  <thead>\n",
       "    <tr style=\"text-align: right;\">\n",
       "      <th>department_id</th>\n",
       "      <th>8</th>\n",
       "      <th>18</th>\n",
       "    </tr>\n",
       "    <tr>\n",
       "      <th>customer_profile</th>\n",
       "      <th></th>\n",
       "      <th></th>\n",
       "    </tr>\n",
       "  </thead>\n",
       "  <tbody>\n",
       "    <tr>\n",
       "      <th>Pet Owner</th>\n",
       "      <td>1693866.5</td>\n",
       "      <td>NaN</td>\n",
       "    </tr>\n",
       "    <tr>\n",
       "      <th>Young Parent</th>\n",
       "      <td>NaN</td>\n",
       "      <td>259042.9</td>\n",
       "    </tr>\n",
       "  </tbody>\n",
       "</table>\n",
       "</div>"
      ],
      "text/plain": [
       "department_id            8         18\n",
       "customer_profile                     \n",
       "Pet Owner         1693866.5       NaN\n",
       "Young Parent            NaN  259042.9"
      ]
     },
     "execution_count": 24,
     "metadata": {},
     "output_type": "execute_result"
    }
   ],
   "source": [
    "\n",
    "\n",
    "# Create a pivot table to display spending per department for each customer profile\n",
    "profile_department_spending = df.pivot_table(index='customer_profile', columns='department_id', values='mean_spent', aggfunc='sum')\n",
    "\n",
    "\n",
    "profile_department_spending\n"
   ]
  },
  {
   "cell_type": "code",
   "execution_count": 25,
   "id": "fd37e8b2",
   "metadata": {},
   "outputs": [],
   "source": [
    "#creating a pivot table to see pet owners throughout the regions\n",
    "chosen_profile = 'Pet Owner'"
   ]
  },
  {
   "cell_type": "code",
   "execution_count": 26,
   "id": "00cd2a27",
   "metadata": {},
   "outputs": [],
   "source": [
    "profile_data = df[df['customer_profile'] == chosen_profile]\n"
   ]
  },
  {
   "cell_type": "code",
   "execution_count": 27,
   "id": "a28d6c91",
   "metadata": {},
   "outputs": [],
   "source": [
    "profile_region_spending = profile_data.pivot_table(index='Regions', columns='department_id', values='mean_spent', aggfunc='sum')\n"
   ]
  },
  {
   "cell_type": "code",
   "execution_count": 28,
   "id": "de59fc96",
   "metadata": {},
   "outputs": [],
   "source": [
    "profile_region_spending.fillna(0, inplace=True)\n"
   ]
  },
  {
   "cell_type": "code",
   "execution_count": 29,
   "id": "b39d346b",
   "metadata": {},
   "outputs": [
    {
     "data": {
      "text/html": [
       "<div>\n",
       "<style scoped>\n",
       "    .dataframe tbody tr th:only-of-type {\n",
       "        vertical-align: middle;\n",
       "    }\n",
       "\n",
       "    .dataframe tbody tr th {\n",
       "        vertical-align: top;\n",
       "    }\n",
       "\n",
       "    .dataframe thead th {\n",
       "        text-align: right;\n",
       "    }\n",
       "</style>\n",
       "<table border=\"1\" class=\"dataframe\">\n",
       "  <thead>\n",
       "    <tr style=\"text-align: right;\">\n",
       "      <th>department_id</th>\n",
       "      <th>8</th>\n",
       "    </tr>\n",
       "    <tr>\n",
       "      <th>Regions</th>\n",
       "      <th></th>\n",
       "    </tr>\n",
       "  </thead>\n",
       "  <tbody>\n",
       "    <tr>\n",
       "      <th>MidWest</th>\n",
       "      <td>386106.6</td>\n",
       "    </tr>\n",
       "    <tr>\n",
       "      <th>Northeast</th>\n",
       "      <td>323782.8</td>\n",
       "    </tr>\n",
       "    <tr>\n",
       "      <th>South</th>\n",
       "      <td>540510.2</td>\n",
       "    </tr>\n",
       "    <tr>\n",
       "      <th>West</th>\n",
       "      <td>443466.9</td>\n",
       "    </tr>\n",
       "  </tbody>\n",
       "</table>\n",
       "</div>"
      ],
      "text/plain": [
       "department_id         8\n",
       "Regions                \n",
       "MidWest        386106.6\n",
       "Northeast      323782.8\n",
       "South          540510.2\n",
       "West           443466.9"
      ]
     },
     "execution_count": 29,
     "metadata": {},
     "output_type": "execute_result"
    }
   ],
   "source": [
    "profile_region_spending"
   ]
  },
  {
   "cell_type": "code",
   "execution_count": 30,
   "id": "3235cfe0",
   "metadata": {},
   "outputs": [
    {
     "data": {
      "image/png": "[encoded data removed]",
      "text/plain": [
       "<Figure size 1000x600 with 1 Axes>"
      ]
     },
     "metadata": {},
     "output_type": "display_data"
    }
   ],
   "source": [
    "#this is apart of number\n",
    "pet_owners = profile_region_spending.plot(kind='bar', figsize=(10, 6))\n",
    "plt.title('Spending Across Regions for Pet Owners')\n",
    "plt.xlabel('Region')\n",
    "plt.ylabel('Amount Spent')\n",
    "plt.legend(title='Spending Categories', bbox_to_anchor=(1.05, 1), loc='upper left')\n",
    "plt.xticks(rotation=45)\n",
    "plt.tight_layout()\n",
    "plt.show()"
   ]
  },
  {
   "cell_type": "code",
   "execution_count": 31,
   "id": "9fbc7770",
   "metadata": {},
   "outputs": [],
   "source": [
    "#creating a pivot table to see Young Parents throughout the regions \n",
    "chosen_profile_2 = 'Young Parent'"
   ]
  },
  {
   "cell_type": "code",
   "execution_count": 32,
   "id": "51d61627",
   "metadata": {},
   "outputs": [],
   "source": [
    "profile_data = df[df['customer_profile'] == chosen_profile_2]"
   ]
  },
  {
   "cell_type": "code",
   "execution_count": 33,
   "id": "c38e3eae",
   "metadata": {},
   "outputs": [],
   "source": [
    "profile_region_spending_2 = profile_data.pivot_table(index='Regions', columns='department_id', values='mean_spent', aggfunc='sum')\n"
   ]
  },
  {
   "cell_type": "code",
   "execution_count": 34,
   "id": "9a914fb6",
   "metadata": {},
   "outputs": [],
   "source": [
    "profile_region_spending_2.fillna(0, inplace=True)\n"
   ]
  },
  {
   "cell_type": "code",
   "execution_count": 35,
   "id": "45d55223",
   "metadata": {},
   "outputs": [
    {
     "data": {
      "text/html": [
       "<div>\n",
       "<style scoped>\n",
       "    .dataframe tbody tr th:only-of-type {\n",
       "        vertical-align: middle;\n",
       "    }\n",
       "\n",
       "    .dataframe tbody tr th {\n",
       "        vertical-align: top;\n",
       "    }\n",
       "\n",
       "    .dataframe thead th {\n",
       "        text-align: right;\n",
       "    }\n",
       "</style>\n",
       "<table border=\"1\" class=\"dataframe\">\n",
       "  <thead>\n",
       "    <tr style=\"text-align: right;\">\n",
       "      <th>department_id</th>\n",
       "      <th>18</th>\n",
       "    </tr>\n",
       "    <tr>\n",
       "      <th>Regions</th>\n",
       "      <th></th>\n",
       "    </tr>\n",
       "  </thead>\n",
       "  <tbody>\n",
       "    <tr>\n",
       "      <th>MidWest</th>\n",
       "      <td>65775.2</td>\n",
       "    </tr>\n",
       "    <tr>\n",
       "      <th>Northeast</th>\n",
       "      <td>44257.6</td>\n",
       "    </tr>\n",
       "    <tr>\n",
       "      <th>South</th>\n",
       "      <td>83360.4</td>\n",
       "    </tr>\n",
       "    <tr>\n",
       "      <th>West</th>\n",
       "      <td>65649.7</td>\n",
       "    </tr>\n",
       "  </tbody>\n",
       "</table>\n",
       "</div>"
      ],
      "text/plain": [
       "department_id       18\n",
       "Regions               \n",
       "MidWest        65775.2\n",
       "Northeast      44257.6\n",
       "South          83360.4\n",
       "West           65649.7"
      ]
     },
     "execution_count": 35,
     "metadata": {},
     "output_type": "execute_result"
    }
   ],
   "source": [
    "profile_region_spending_2"
   ]
  },
  {
   "cell_type": "markdown",
   "id": "3b4092b7",
   "metadata": {},
   "source": [
    "# 8. create a chart"
   ]
  },
  {
   "cell_type": "code",
   "execution_count": 36,
   "id": "495cb07b",
   "metadata": {},
   "outputs": [
    {
     "data": {
      "image/png": "[encoded data removed]",
      "text/plain": [
       "<Figure size 1000x600 with 1 Axes>"
      ]
     },
     "metadata": {},
     "output_type": "display_data"
    }
   ],
   "source": [
    "young_parents = profile_region_spending_2.plot(kind='bar', figsize=(10, 6))\n",
    "plt.title('Spending Across Regions for Young Parents')\n",
    "plt.xlabel('Region')\n",
    "plt.ylabel('Amount Spent')\n",
    "plt.legend(title='Spending Categories', bbox_to_anchor=(1.05, 1), loc='upper left')\n",
    "plt.xticks(rotation=45)\n",
    "plt.tight_layout()\n",
    "plt.show()\n"
   ]
  },
  {
   "cell_type": "code",
   "execution_count": null,
   "id": "77d53733",
   "metadata": {},
   "outputs": [],
   "source": [
    "# creating histogram object\n",
    "income_histogram = df_opd['income'].plot.hist(title='Distribution of Consumer Incomes', xlabel='Income', ylabel='Frequency', color='green', edgecolor='white',bins =70)\n",
    "plt.savefig('income_histogram.png')\n",
    "plt.show()"
   ]
  },
  {
   "cell_type": "code",
   "execution_count": null,
   "id": "5f1121eb",
   "metadata": {},
   "outputs": [],
   "source": [
    "# creating bar object for department frequency count\n",
    "department_bar_count =df_opd['department'].value_counts().plot.bar(title='Total Purchases by Department', xlabel='Department', ylabel='Frequency', color='green', edgecolor='black')\n",
    "plt.savefig('department_bar_count.png')\n",
    "plt.show()"
   ]
  },
  {
   "cell_type": "code",
   "execution_count": null,
   "id": "fea04e51",
   "metadata": {},
   "outputs": [],
   "source": [
    "#creating barchart for top 10 most popular products\n",
    "popular_products_barchart = df_popular_products['product_name'].value_counts()[:10].plot.bar(title='Top 10 most Popular Products in Produce', xlabel='Product Names', ylabel='Orders', color='green', edgecolor='black')\n",
    "plt.savefig('popular_products_barchart.png')\n",
    "plt.show()"
   ]
  },
  {
   "cell_type": "code",
   "execution_count": 37,
   "id": "6194d25d",
   "metadata": {},
   "outputs": [],
   "source": [
    "pet_owners.figure.savefig(os.path.join(path, '04 Analysis','Visualizations', 'pet_owners.png'))\n"
   ]
  },
  {
   "cell_type": "code",
   "execution_count": 38,
   "id": "e911000c",
   "metadata": {},
   "outputs": [],
   "source": [
    "young_parents.figure.savefig(os.path.join(path, '04 Analysis','Visualizations', 'young_parents.png'))\n"
   ]
  },
  {
   "cell_type": "code",
   "execution_count": null,
   "id": "736b2070",
   "metadata": {},
   "outputs": [],
   "source": []
  },
  {
   "cell_type": "code",
   "execution_count": null,
   "id": "a8b8fa6a",
   "metadata": {},
   "outputs": [],
   "source": []
  },
  {
   "cell_type": "code",
   "execution_count": null,
   "id": "d62f6601",
   "metadata": {},
   "outputs": [],
   "source": []
  }
 ],
 "metadata": {
  "kernelspec": {
   "display_name": "Python 3 (ipykernel)",
   "language": "python",
   "name": "python3"
  },
  "language_info": {
   "codemirror_mode": {
    "name": "ipython",
    "version": 3
   },
   "file_extension": ".py",
   "mimetype": "text/x-python",
   "name": "python",
   "nbconvert_exporter": "python",
   "pygments_lexer": "ipython3",
   "version": "3.11.5"
  }
 },
 "nbformat": 4,
 "nbformat_minor": 5
}
